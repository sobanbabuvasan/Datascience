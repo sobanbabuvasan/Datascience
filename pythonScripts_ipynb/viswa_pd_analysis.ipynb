{
 "cells": [
  {
   "cell_type": "code",
   "execution_count": 1,
   "metadata": {
    "collapsed": true
   },
   "outputs": [],
   "source": [
    "import numpy as np\n",
    "import pandas as pd\n",
    "import matplotlib.pyplot as plt\n",
    "import seaborn as sns\n",
    "%matplotlib inline  # to display the chart inside the jupyter %notebook"
   ]
  },
  {
   "cell_type": "code",
   "execution_count": 30,
   "metadata": {},
   "outputs": [
    {
     "name": "stdout",
     "output_type": "stream",
     "text": [
      "(25000, 27)\n",
      "(25000, 27)\n"
     ]
    }
   ],
   "source": [
    "df1 = pd.read_csv(\"D:/dat5/sales_w05.csv\",sep=\",\")\n",
    "df2 = pd.read_csv(\"D:/dat5/sales_w06.csv\",sep=\",\")\n",
    "print df1.shape\n",
    "print df2.shape"
   ]
  },
  {
   "cell_type": "code",
   "execution_count": 11,
   "metadata": {},
   "outputs": [
    {
     "data": {
      "text/plain": [
       "Unnamed: 0          int64\n",
       "Row.ID              int64\n",
       "Order_ID           object\n",
       "Order_Date         object\n",
       "Ship_Date          object\n",
       "Ship_Mode          object\n",
       "Customer_ID        object\n",
       "Customer.Name      object\n",
       "Segment            object\n",
       "City               object\n",
       "State              object\n",
       "Country            object\n",
       "Postal.Code       float64\n",
       "Market             object\n",
       "Region             object\n",
       "Product.ID         object\n",
       "Category           object\n",
       "Sub.Category       object\n",
       "Product.Name       object\n",
       "Sales             float64\n",
       "Quantity            int64\n",
       "Discount          float64\n",
       "Profit            float64\n",
       "Shipping_Cost     float64\n",
       "Order_Priority     object\n",
       "Return             object\n",
       "Returned            int64\n",
       "dtype: object"
      ]
     },
     "execution_count": 11,
     "metadata": {},
     "output_type": "execute_result"
    }
   ],
   "source": [
    "df2.dtypes"
   ]
  },
  {
   "cell_type": "code",
   "execution_count": 31,
   "metadata": {},
   "outputs": [],
   "source": [
    "df1['Sales'] = pd.to_numeric(df1['Sales'].str.replace(r'[$,]',''))"
   ]
  },
  {
   "cell_type": "code",
   "execution_count": 27,
   "metadata": {},
   "outputs": [
    {
     "name": "stdout",
     "output_type": "stream",
     "text": [
      "Unnamed: 0          int64\n",
      "Row.ID              int64\n",
      "Order_ID           object\n",
      "Order_Date         object\n",
      "Ship_Date          object\n",
      "Ship_Mode          object\n",
      "Customer_ID        object\n",
      "Customer.Name      object\n",
      "Segment            object\n",
      "City               object\n",
      "State              object\n",
      "Country            object\n",
      "Postal.Code       float64\n",
      "Market             object\n",
      "Region             object\n",
      "Product.ID         object\n",
      "Category           object\n",
      "Sub.Category       object\n",
      "Product.Name       object\n",
      "Sales             float64\n",
      "Quantity            int64\n",
      "Discount          float64\n",
      "Profit            float64\n",
      "Shipping_Cost     float64\n",
      "Order_Priority     object\n",
      "Return             object\n",
      "Returned            int64\n",
      "dtype: object\n",
      "   Unnamed: 0  Row.ID         Order_ID  Order_Date   Ship_Date     Ship_Mode  \\\n",
      "0           1   32298   CA-2012-124891   7/31/2012   7/31/2012      Same Day   \n",
      "1           2   26341    IN-2013-77878    2/5/2013    2/7/2013  Second Class   \n",
      "2           3   25330    IN-2013-71249  10/17/2013  10/18/2013   First Class   \n",
      "3           4   13524  ES-2013-1579342   1/28/2013   1/30/2013   First Class   \n",
      "4           5   47221     SG-2013-4320   11/5/2013   11/6/2013      Same Day   \n",
      "\n",
      "  Customer_ID     Customer.Name      Segment           City    ...     \\\n",
      "0    RH-19495       Rick Hansen     Consumer  New York City    ...      \n",
      "1    JR-16210     Justin Ritter    Corporate     Wollongong    ...      \n",
      "2    CR-12730      Craig Reiter     Consumer       Brisbane    ...      \n",
      "3    KM-16375  Katherine Murray  Home Office         Berlin    ...      \n",
      "4     RH-9495       Rick Hansen     Consumer          Dakar    ...      \n",
      "\n",
      "  Sub.Category                                       Product.Name     Sales  \\\n",
      "0  Accessories  Plantronics CS510 - Over-the-Head monaural Wir...  2309.650   \n",
      "1       Chairs          Novimex Executive Leather Armchair, Black  3709.395   \n",
      "2       Phones                  Nokia Smart Phone, with Caller ID  5175.171   \n",
      "3       Phones                     Motorola Smart Phone, Cordless  2892.510   \n",
      "4      Copiers                     Sharp Wireless Fax, High-Speed  2832.960   \n",
      "\n",
      "  Quantity Discount    Profit Shipping_Cost Order_Priority Return  Returned  \n",
      "0        7      0.0  762.1845        933.57       Critical     No         0  \n",
      "1        9      0.1 -288.7650        923.63       Critical    Yes         1  \n",
      "2        9      0.1  919.9710        915.49         Medium     No         0  \n",
      "3        5      0.1  -96.5400        910.16         Medium     No         0  \n",
      "4        8      0.0  311.5200        903.04       Critical     No         0  \n",
      "\n",
      "[5 rows x 27 columns]\n"
     ]
    }
   ],
   "source": [
    "print df1.dtypes\n",
    "print df1.head()"
   ]
  },
  {
   "cell_type": "code",
   "execution_count": 32,
   "metadata": {},
   "outputs": [],
   "source": [
    "# row wise concatenation\n",
    "df3 = pd.concat((df1,df2),axis=0)"
   ]
  },
  {
   "cell_type": "code",
   "execution_count": 17,
   "metadata": {},
   "outputs": [
    {
     "data": {
      "text/plain": [
       "(50000, 27)"
      ]
     },
     "execution_count": 17,
     "metadata": {},
     "output_type": "execute_result"
    }
   ],
   "source": [
    "df3.shape"
   ]
  },
  {
   "cell_type": "code",
   "execution_count": 33,
   "metadata": {},
   "outputs": [
    {
     "data": {
      "text/plain": [
       "Unnamed: 0          int64\n",
       "Row.ID              int64\n",
       "Order_ID           object\n",
       "Order_Date         object\n",
       "Ship_Date          object\n",
       "Ship_Mode          object\n",
       "Customer_ID        object\n",
       "Customer.Name      object\n",
       "Segment            object\n",
       "City               object\n",
       "State              object\n",
       "Country            object\n",
       "Postal.Code       float64\n",
       "Market             object\n",
       "Region             object\n",
       "Product.ID         object\n",
       "Category           object\n",
       "Sub.Category       object\n",
       "Product.Name       object\n",
       "Sales             float64\n",
       "Quantity            int64\n",
       "Discount          float64\n",
       "Profit            float64\n",
       "Shipping_Cost     float64\n",
       "Order_Priority     object\n",
       "Return             object\n",
       "Returned            int64\n",
       "dtype: object"
      ]
     },
     "execution_count": 33,
     "metadata": {},
     "output_type": "execute_result"
    }
   ],
   "source": [
    "df3.dtypes"
   ]
  },
  {
   "cell_type": "code",
   "execution_count": 43,
   "metadata": {},
   "outputs": [],
   "source": [
    "# drop columns those are irrelevant\n",
    "# drops = df3['Postal.Code']\n",
    "df3.drop(columns=['Postal.Code'],axis=1,inplace=True)\n"
   ]
  },
  {
   "cell_type": "code",
   "execution_count": 44,
   "metadata": {},
   "outputs": [
    {
     "data": {
      "text/plain": [
       "Unnamed: 0          int64\n",
       "Row.ID              int64\n",
       "Order_ID           object\n",
       "Order_Date         object\n",
       "Ship_Date          object\n",
       "Ship_Mode          object\n",
       "Customer_ID        object\n",
       "Customer.Name      object\n",
       "Segment            object\n",
       "City               object\n",
       "State              object\n",
       "Country            object\n",
       "Market             object\n",
       "Region             object\n",
       "Product.ID         object\n",
       "Category           object\n",
       "Sub.Category       object\n",
       "Product.Name       object\n",
       "Sales             float64\n",
       "Quantity            int64\n",
       "Discount          float64\n",
       "Profit            float64\n",
       "Shipping_Cost     float64\n",
       "Order_Priority     object\n",
       "Return             object\n",
       "Returned            int64\n",
       "dtype: object"
      ]
     },
     "execution_count": 44,
     "metadata": {},
     "output_type": "execute_result"
    }
   ],
   "source": [
    "df3.dtypes"
   ]
  },
  {
   "cell_type": "code",
   "execution_count": 47,
   "metadata": {},
   "outputs": [
    {
     "name": "stdout",
     "output_type": "stream",
     "text": [
      "['Technology' 'Furniture' 'Office Supplies']\n",
      "Office Supplies    9882\n",
      "Technology         7945\n",
      "Furniture          7173\n",
      "Name: Category, dtype: int64\n",
      "['Accessories' 'Chairs' 'Phones' 'Copiers' 'Tables' 'Binders' 'Supplies'\n",
      " 'Appliances' 'Machines' 'Bookcases' 'Storage' 'Furnishings' 'Art' 'Paper'\n",
      " 'Envelopes' 'Fasteners' 'Labels']\n",
      "Storage        2835\n",
      "Chairs         2765\n",
      "Phones         2719\n",
      "Bookcases      2239\n",
      "Copiers        2075\n",
      "Accessories    1931\n",
      "Art            1514\n",
      "Furnishings    1359\n",
      "Appliances     1307\n",
      "Binders        1259\n",
      "Machines       1220\n",
      "Paper           980\n",
      "Supplies        878\n",
      "Tables          810\n",
      "Envelopes       682\n",
      "Fasteners       244\n",
      "Labels          183\n",
      "Name: Sub.Category, dtype: int64\n"
     ]
    }
   ],
   "source": [
    "print df2['Category'].unique()\n",
    "print df2['Category'].value_counts()\n",
    "print df2['Sub.Category'].unique()\n",
    "print df2['Sub.Category'].value_counts()\n"
   ]
  },
  {
   "cell_type": "code",
   "execution_count": 49,
   "metadata": {},
   "outputs": [
    {
     "data": {
      "text/plain": [
       "Unnamed: 0          0\n",
       "Row.ID              0\n",
       "Order_ID            0\n",
       "Order_Date          0\n",
       "Ship_Date           0\n",
       "Ship_Mode           0\n",
       "Customer_ID         0\n",
       "Customer.Name       0\n",
       "Segment             8\n",
       "City                0\n",
       "State               0\n",
       "Country             0\n",
       "Market              0\n",
       "Region              0\n",
       "Product.ID          0\n",
       "Category            0\n",
       "Sub.Category        0\n",
       "Product.Name        0\n",
       "Sales             112\n",
       "Quantity            0\n",
       "Discount            0\n",
       "Profit              0\n",
       "Shipping_Cost       0\n",
       "Order_Priority      0\n",
       "Return              0\n",
       "Returned            0\n",
       "dtype: int64"
      ]
     },
     "execution_count": 49,
     "metadata": {},
     "output_type": "execute_result"
    }
   ],
   "source": [
    "df3.isnull().sum()"
   ]
  },
  {
   "cell_type": "code",
   "execution_count": 58,
   "metadata": {},
   "outputs": [],
   "source": [
    "import datetime as dt\n",
    "df3['Order_Date'] = pd.to_datetime(df3.Order_Date)\n",
    "df3['year'] = df3['Order_Date'].dt.year\n",
    "df3['month'] = df3['Order_Date'].dt.month\n",
    "df3['day'] = df3['Order_Date'].dt.day\n",
    "df3['dayofweek'] = df3['Order_Date'].dt.dayofweek\n",
    "\n",
    "df3['days'] = df3[['Order_Date']].apply(lambda x: dt.datetime.strftime(x['Order_Date'],'%A'),axis=1)\n"
   ]
  },
  {
   "cell_type": "code",
   "execution_count": 60,
   "metadata": {},
   "outputs": [
    {
     "data": {
      "text/plain": [
       "Unnamed: 0                 int64\n",
       "Row.ID                     int64\n",
       "Order_ID                  object\n",
       "Order_Date        datetime64[ns]\n",
       "Ship_Date                 object\n",
       "Ship_Mode                 object\n",
       "Customer_ID               object\n",
       "Customer.Name             object\n",
       "Segment                   object\n",
       "City                      object\n",
       "State                     object\n",
       "Country                   object\n",
       "Market                    object\n",
       "Region                    object\n",
       "Product.ID                object\n",
       "Category                  object\n",
       "Sub.Category              object\n",
       "Product.Name              object\n",
       "Sales                    float64\n",
       "Quantity                   int64\n",
       "Discount                 float64\n",
       "Profit                   float64\n",
       "Shipping_Cost            float64\n",
       "Order_Priority            object\n",
       "Return                    object\n",
       "Returned                   int64\n",
       "year                       int64\n",
       "month                      int64\n",
       "day                        int64\n",
       "dayofweek                  int64\n",
       "days                      object\n",
       "dtype: object"
      ]
     },
     "execution_count": 60,
     "metadata": {},
     "output_type": "execute_result"
    }
   ],
   "source": [
    "df3.dtypes"
   ]
  },
  {
   "cell_type": "code",
   "execution_count": 70,
   "metadata": {},
   "outputs": [
    {
     "data": {
      "text/html": [
       "<div>\n",
       "<style scoped>\n",
       "    .dataframe tbody tr th:only-of-type {\n",
       "        vertical-align: middle;\n",
       "    }\n",
       "\n",
       "    .dataframe tbody tr th {\n",
       "        vertical-align: top;\n",
       "    }\n",
       "\n",
       "    .dataframe thead tr th {\n",
       "        text-align: left;\n",
       "    }\n",
       "\n",
       "    .dataframe thead tr:last-of-type th {\n",
       "        text-align: right;\n",
       "    }\n",
       "</style>\n",
       "<table border=\"1\" class=\"dataframe\">\n",
       "  <thead>\n",
       "    <tr>\n",
       "      <th></th>\n",
       "      <th></th>\n",
       "      <th>sum</th>\n",
       "    </tr>\n",
       "    <tr>\n",
       "      <th></th>\n",
       "      <th></th>\n",
       "      <th>Sales</th>\n",
       "    </tr>\n",
       "    <tr>\n",
       "      <th>Category</th>\n",
       "      <th>dayofweek</th>\n",
       "      <th></th>\n",
       "    </tr>\n",
       "  </thead>\n",
       "  <tbody>\n",
       "    <tr>\n",
       "      <th rowspan=\"7\" valign=\"top\">Furniture</th>\n",
       "      <th>0</th>\n",
       "      <td>13.577724</td>\n",
       "    </tr>\n",
       "    <tr>\n",
       "      <th>1</th>\n",
       "      <td>13.137826</td>\n",
       "    </tr>\n",
       "    <tr>\n",
       "      <th>2</th>\n",
       "      <td>12.788853</td>\n",
       "    </tr>\n",
       "    <tr>\n",
       "      <th>3</th>\n",
       "      <td>13.869003</td>\n",
       "    </tr>\n",
       "    <tr>\n",
       "      <th>4</th>\n",
       "      <td>14.418075</td>\n",
       "    </tr>\n",
       "    <tr>\n",
       "      <th>5</th>\n",
       "      <td>8.027567</td>\n",
       "    </tr>\n",
       "    <tr>\n",
       "      <th>6</th>\n",
       "      <td>1.587247</td>\n",
       "    </tr>\n",
       "    <tr>\n",
       "      <th rowspan=\"7\" valign=\"top\">Office Supplies</th>\n",
       "      <th>0</th>\n",
       "      <td>10.120371</td>\n",
       "    </tr>\n",
       "    <tr>\n",
       "      <th>1</th>\n",
       "      <td>10.951345</td>\n",
       "    </tr>\n",
       "    <tr>\n",
       "      <th>2</th>\n",
       "      <td>9.736452</td>\n",
       "    </tr>\n",
       "    <tr>\n",
       "      <th>3</th>\n",
       "      <td>10.282096</td>\n",
       "    </tr>\n",
       "    <tr>\n",
       "      <th>4</th>\n",
       "      <td>10.973296</td>\n",
       "    </tr>\n",
       "    <tr>\n",
       "      <th>5</th>\n",
       "      <td>5.504994</td>\n",
       "    </tr>\n",
       "    <tr>\n",
       "      <th>6</th>\n",
       "      <td>0.873131</td>\n",
       "    </tr>\n",
       "    <tr>\n",
       "      <th rowspan=\"7\" valign=\"top\">Technology</th>\n",
       "      <th>0</th>\n",
       "      <td>16.045497</td>\n",
       "    </tr>\n",
       "    <tr>\n",
       "      <th>1</th>\n",
       "      <td>16.487567</td>\n",
       "    </tr>\n",
       "    <tr>\n",
       "      <th>2</th>\n",
       "      <td>16.122649</td>\n",
       "    </tr>\n",
       "    <tr>\n",
       "      <th>3</th>\n",
       "      <td>16.142983</td>\n",
       "    </tr>\n",
       "    <tr>\n",
       "      <th>4</th>\n",
       "      <td>16.154218</td>\n",
       "    </tr>\n",
       "    <tr>\n",
       "      <th>5</th>\n",
       "      <td>7.631231</td>\n",
       "    </tr>\n",
       "    <tr>\n",
       "      <th>6</th>\n",
       "      <td>1.506944</td>\n",
       "    </tr>\n",
       "  </tbody>\n",
       "</table>\n",
       "</div>"
      ],
      "text/plain": [
       "                                 sum\n",
       "                               Sales\n",
       "Category        dayofweek           \n",
       "Furniture       0          13.577724\n",
       "                1          13.137826\n",
       "                2          12.788853\n",
       "                3          13.869003\n",
       "                4          14.418075\n",
       "                5           8.027567\n",
       "                6           1.587247\n",
       "Office Supplies 0          10.120371\n",
       "                1          10.951345\n",
       "                2           9.736452\n",
       "                3          10.282096\n",
       "                4          10.973296\n",
       "                5           5.504994\n",
       "                6           0.873131\n",
       "Technology      0          16.045497\n",
       "                1          16.487567\n",
       "                2          16.122649\n",
       "                3          16.142983\n",
       "                4          16.154218\n",
       "                5           7.631231\n",
       "                6           1.506944"
      ]
     },
     "execution_count": 70,
     "metadata": {},
     "output_type": "execute_result"
    }
   ],
   "source": [
    "df3['Sales'] = df3.Sales/100000\n",
    "df_pv2 = pd.pivot_table(df3,index=['Category','dayofweek'],values=['Sales'],aggfunc=[np.sum],dropna=False)\n",
    "df_pv2"
   ]
  },
  {
   "cell_type": "code",
   "execution_count": 67,
   "metadata": {},
   "outputs": [
    {
     "data": {
      "text/plain": [
       "150694.4"
      ]
     },
     "execution_count": 67,
     "metadata": {},
     "output_type": "execute_result"
    }
   ],
   "source": [
    "1.506944 * 10**5"
   ]
  },
  {
   "cell_type": "code",
   "execution_count": 88,
   "metadata": {},
   "outputs": [
    {
     "data": {
      "text/plain": [
       "<matplotlib.axes._subplots.AxesSubplot at 0x207b6320>"
      ]
     },
     "execution_count": 88,
     "metadata": {},
     "output_type": "execute_result"
    },
    {
     "data": {
      "image/png": "[encoded data removed]",
      "text/plain": [
       "<matplotlib.figure.Figure at 0x1951b860>"
      ]
     },
     "metadata": {},
     "output_type": "display_data"
    }
   ],
   "source": [
    "# figsizxe = (width,height)\n",
    "fig, (axis1,axis2,axis3) = plt.subplots(1,3,figsize=(45,8))\n",
    "sns.barplot(x='dayofweek' , y= 'Sales' , data = df3,ax=axis1)\n",
    "sns.barplot(x='dayofweek' , y= 'Profit' , data = df3,ax=axis2)\n",
    "sns.barplot(x='dayofweek' , y= 'Quantity' , data = df3,ax=axis3)"
   ]
  },
  {
   "cell_type": "code",
   "execution_count": 89,
   "metadata": {},
   "outputs": [
    {
     "data": {
      "text/html": [
       "<div>\n",
       "<style scoped>\n",
       "    .dataframe tbody tr th:only-of-type {\n",
       "        vertical-align: middle;\n",
       "    }\n",
       "\n",
       "    .dataframe tbody tr th {\n",
       "        vertical-align: top;\n",
       "    }\n",
       "\n",
       "    .dataframe thead th {\n",
       "        text-align: right;\n",
       "    }\n",
       "</style>\n",
       "<table border=\"1\" class=\"dataframe\">\n",
       "  <thead>\n",
       "    <tr style=\"text-align: right;\">\n",
       "      <th>Category</th>\n",
       "      <th>Furniture</th>\n",
       "      <th>Office Supplies</th>\n",
       "      <th>Technology</th>\n",
       "    </tr>\n",
       "    <tr>\n",
       "      <th>Segment</th>\n",
       "      <th></th>\n",
       "      <th></th>\n",
       "      <th></th>\n",
       "    </tr>\n",
       "  </thead>\n",
       "  <tbody>\n",
       "    <tr>\n",
       "      <th>Consumer</th>\n",
       "      <td>40.203551</td>\n",
       "      <td>30.343238</td>\n",
       "      <td>45.873154</td>\n",
       "    </tr>\n",
       "    <tr>\n",
       "      <th>Corporate</th>\n",
       "      <td>23.689732</td>\n",
       "      <td>17.540441</td>\n",
       "      <td>26.883656</td>\n",
       "    </tr>\n",
       "    <tr>\n",
       "      <th>Home Office</th>\n",
       "      <td>13.393027</td>\n",
       "      <td>10.558005</td>\n",
       "      <td>17.155416</td>\n",
       "    </tr>\n",
       "  </tbody>\n",
       "</table>\n",
       "</div>"
      ],
      "text/plain": [
       "Category     Furniture  Office Supplies  Technology\n",
       "Segment                                            \n",
       "Consumer     40.203551        30.343238   45.873154\n",
       "Corporate    23.689732        17.540441   26.883656\n",
       "Home Office  13.393027        10.558005   17.155416"
      ]
     },
     "execution_count": 89,
     "metadata": {},
     "output_type": "execute_result"
    }
   ],
   "source": [
    "seg_cat_sales = pd.pivot_table(df3,values='Sales',index='Segment',columns=['Category'], aggfunc='sum')\n",
    "seg_cat_sales"
   ]
  },
  {
   "cell_type": "code",
   "execution_count": 94,
   "metadata": {},
   "outputs": [
    {
     "data": {
      "text/plain": [
       "<matplotlib.axes._subplots.AxesSubplot at 0x193ecc18>"
      ]
     },
     "execution_count": 94,
     "metadata": {},
     "output_type": "execute_result"
    },
    {
     "data": {
      "image/png": "[encoded data removed]",
      "text/plain": [
       "<matplotlib.figure.Figure at 0x207d3978>"
      ]
     },
     "metadata": {},
     "output_type": "display_data"
    }
   ],
   "source": [
    "fig, (axis1) = plt.subplots(1,1,figsize=(15,5))\n",
    "sns.heatmap(seg_cat_sales,annot=True,linewidth=2)"
   ]
  },
  {
   "cell_type": "code",
   "execution_count": null,
   "metadata": {
    "collapsed": true
   },
   "outputs": [],
   "source": []
  }
 ],
 "metadata": {
  "kernelspec": {
   "display_name": "Python 2",
   "language": "python",
   "name": "python2"
  },
  "language_info": {
   "codemirror_mode": {
    "name": "ipython",
    "version": 2
   },
   "file_extension": ".py",
   "mimetype": "text/x-python",
   "name": "python",
   "nbconvert_exporter": "python",
   "pygments_lexer": "ipython2",
   "version": "2.7.13"
  }
 },
 "nbformat": 4,
 "nbformat_minor": 2
}
