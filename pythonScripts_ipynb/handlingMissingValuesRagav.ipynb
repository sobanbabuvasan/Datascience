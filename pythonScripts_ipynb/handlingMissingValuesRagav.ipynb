{
 "cells": [
  {
   "cell_type": "code",
   "execution_count": 2,
   "metadata": {
    "collapsed": true
   },
   "outputs": [],
   "source": [
    "import numpy as np\n",
    "import pandas as pd\n",
    "from scipy.stats import mode"
   ]
  },
  {
   "cell_type": "code",
   "execution_count": null,
   "metadata": {
    "collapsed": true
   },
   "outputs": [],
   "source": [
    "'''\n",
    "1. delete the rows (observations/examples)\n",
    "2. impute the data (replace the missing values)\n",
    "\n",
    "data imputation - replace the missing values (by taking the mean value of the specific)\n",
    "# 5% -15% or less missing values - remove \n",
    "# 30% of the data has the missing values - data imputation \n",
    "# 50% of the data has missing values - check with the stakeholders\n",
    "'''\n",
    "'''\n",
    "mean values work for integer or float\n",
    "mode values or the maxi occurrent of the values are used for strings or objects \n",
    "'''\n"
   ]
  },
  {
   "cell_type": "code",
   "execution_count": 7,
   "metadata": {},
   "outputs": [
    {
     "data": {
      "text/html": [
       "<div>\n",
       "<style scoped>\n",
       "    .dataframe tbody tr th:only-of-type {\n",
       "        vertical-align: middle;\n",
       "    }\n",
       "\n",
       "    .dataframe tbody tr th {\n",
       "        vertical-align: top;\n",
       "    }\n",
       "\n",
       "    .dataframe thead th {\n",
       "        text-align: right;\n",
       "    }\n",
       "</style>\n",
       "<table border=\"1\" class=\"dataframe\">\n",
       "  <thead>\n",
       "    <tr style=\"text-align: right;\">\n",
       "      <th></th>\n",
       "      <th>Product Name</th>\n",
       "      <th>Category</th>\n",
       "      <th>storeManager</th>\n",
       "      <th>quantity</th>\n",
       "      <th>Price</th>\n",
       "      <th>PercentageSold</th>\n",
       "    </tr>\n",
       "  </thead>\n",
       "  <tbody>\n",
       "    <tr>\n",
       "      <th>0</th>\n",
       "      <td>Eldon Base for stackable storage shelf, platinum</td>\n",
       "      <td>Storage &amp; Organization</td>\n",
       "      <td>Muhammed MacIntyre</td>\n",
       "      <td>3.0</td>\n",
       "      <td>35.00</td>\n",
       "      <td>0.80</td>\n",
       "    </tr>\n",
       "    <tr>\n",
       "      <th>1</th>\n",
       "      <td>1.7 Cubic Foot Compact \"Cube\" Office Refrigera...</td>\n",
       "      <td>Appliances</td>\n",
       "      <td>Barry French</td>\n",
       "      <td>293.0</td>\n",
       "      <td>68.02</td>\n",
       "      <td>0.58</td>\n",
       "    </tr>\n",
       "  </tbody>\n",
       "</table>\n",
       "</div>"
      ],
      "text/plain": [
       "                                        Product Name                Category  \\\n",
       "0   Eldon Base for stackable storage shelf, platinum  Storage & Organization   \n",
       "1  1.7 Cubic Foot Compact \"Cube\" Office Refrigera...              Appliances   \n",
       "\n",
       "         storeManager  quantity  Price  PercentageSold  \n",
       "0  Muhammed MacIntyre       3.0  35.00            0.80  \n",
       "1        Barry French     293.0  68.02            0.58  "
      ]
     },
     "execution_count": 7,
     "metadata": {},
     "output_type": "execute_result"
    }
   ],
   "source": [
    "retail = pd.read_csv(\"D:/dat1/retailMissing.csv\",sep=',')\n",
    "retail.head(2)"
   ]
  },
  {
   "cell_type": "code",
   "execution_count": 8,
   "metadata": {},
   "outputs": [
    {
     "name": "stdout",
     "output_type": "stream",
     "text": [
      "(100, 6)\n"
     ]
    }
   ],
   "source": [
    "print retail.shape"
   ]
  },
  {
   "cell_type": "code",
   "execution_count": 10,
   "metadata": {},
   "outputs": [
    {
     "name": "stdout",
     "output_type": "stream",
     "text": [
      "Product Name       object\n",
      "Category           object\n",
      "storeManager       object\n",
      "quantity          float64\n",
      "Price             float64\n",
      "PercentageSold    float64\n",
      "dtype: object\n"
     ]
    }
   ],
   "source": [
    "print retail.dtypes"
   ]
  },
  {
   "cell_type": "code",
   "execution_count": 11,
   "metadata": {},
   "outputs": [
    {
     "name": "stdout",
     "output_type": "stream",
     "text": [
      "   Product Name  Category  storeManager  quantity  Price  PercentageSold\n",
      "0         False     False         False     False  False           False\n",
      "1         False     False         False     False  False           False\n",
      "2         False     False         False     False  False           False\n",
      "3         False     False         False      True  False            True\n",
      "4         False     False         False     False  False           False\n"
     ]
    }
   ],
   "source": [
    "print retail.isnull().head()"
   ]
  },
  {
   "cell_type": "code",
   "execution_count": 12,
   "metadata": {},
   "outputs": [
    {
     "name": "stdout",
     "output_type": "stream",
     "text": [
      "Product Name       3\n",
      "Category           9\n",
      "storeManager       2\n",
      "quantity          27\n",
      "Price              7\n",
      "PercentageSold    15\n",
      "dtype: int64\n"
     ]
    }
   ],
   "source": [
    "print retail.isnull().sum()"
   ]
  },
  {
   "cell_type": "code",
   "execution_count": 14,
   "metadata": {},
   "outputs": [
    {
     "data": {
      "text/plain": [
       "(58, 6)"
      ]
     },
     "execution_count": 14,
     "metadata": {},
     "output_type": "execute_result"
    }
   ],
   "source": [
    "retail.dropna(how='any').shape"
   ]
  },
  {
   "cell_type": "code",
   "execution_count": 15,
   "metadata": {},
   "outputs": [
    {
     "data": {
      "text/plain": [
       "(98, 6)"
      ]
     },
     "execution_count": 15,
     "metadata": {},
     "output_type": "execute_result"
    }
   ],
   "source": [
    "# 2 records have missing values in all the columns\n",
    "retail.dropna(how='all').shape"
   ]
  },
  {
   "cell_type": "code",
   "execution_count": 16,
   "metadata": {},
   "outputs": [
    {
     "data": {
      "text/plain": [
       "(100, 6)"
      ]
     },
     "execution_count": 16,
     "metadata": {},
     "output_type": "execute_result"
    }
   ],
   "source": [
    "retail.shape"
   ]
  },
  {
   "cell_type": "code",
   "execution_count": 17,
   "metadata": {},
   "outputs": [
    {
     "data": {
      "text/plain": [
       "Paper                             21\n",
       "Binders and Binder Accessories     9\n",
       "NaN                                9\n",
       "Telephones and Communication       9\n",
       "Storage & Organization             7\n",
       "Office Furnishings                 7\n",
       "Appliances                         6\n",
       "Computer Peripherals               5\n",
       "Chairs & Chairmats                 5\n",
       "Labels                             5\n",
       "Pens & Art Supplies                5\n",
       "Bookcases                          3\n",
       "Rubber Bands                       3\n",
       "Envelopes                          2\n",
       "Tables                             2\n",
       "Copiers and Fax                    1\n",
       "Scissors, Rulers and Trimmers      1\n",
       "Name: Category, dtype: int64"
      ]
     },
     "execution_count": 17,
     "metadata": {},
     "output_type": "execute_result"
    }
   ],
   "source": [
    "retail['Category'].value_counts(dropna=False)"
   ]
  },
  {
   "cell_type": "code",
   "execution_count": null,
   "metadata": {
    "collapsed": true
   },
   "outputs": [],
   "source": [
    "retail['Category'].value_counts(dropna=False)"
   ]
  },
  {
   "cell_type": "code",
   "execution_count": 20,
   "metadata": {},
   "outputs": [
    {
     "data": {
      "text/plain": [
       "0             Storage & Organization\n",
       "1                         Appliances\n",
       "2     Binders and Binder Accessories\n",
       "3       Telephones and Communication\n",
       "4                         Appliances\n",
       "5                 Office Furnishings\n",
       "6                            Missing\n",
       "7             Storage & Organization\n",
       "8             Storage & Organization\n",
       "9                              Paper\n",
       "10                             Paper\n",
       "11                      Rubber Bands\n",
       "12                        Appliances\n",
       "13              Computer Peripherals\n",
       "14    Binders and Binder Accessories\n",
       "15                Office Furnishings\n",
       "16                         Envelopes\n",
       "17                         Bookcases\n",
       "18                            Tables\n",
       "19                           Missing\n",
       "20      Telephones and Communication\n",
       "21                            Labels\n",
       "22                      Rubber Bands\n",
       "23    Binders and Binder Accessories\n",
       "24              Computer Peripherals\n",
       "25               Pens & Art Supplies\n",
       "26                           Missing\n",
       "27                   Copiers and Fax\n",
       "28            Storage & Organization\n",
       "29               Pens & Art Supplies\n",
       "                   ...              \n",
       "70                Office Furnishings\n",
       "71                Chairs & Chairmats\n",
       "72                         Envelopes\n",
       "73                        Appliances\n",
       "74                Chairs & Chairmats\n",
       "75                             Paper\n",
       "76                             Paper\n",
       "77            Storage & Organization\n",
       "78    Binders and Binder Accessories\n",
       "79                             Paper\n",
       "80                Office Furnishings\n",
       "81                             Paper\n",
       "82                      Rubber Bands\n",
       "83                           Missing\n",
       "84            Storage & Organization\n",
       "85                Chairs & Chairmats\n",
       "86                             Paper\n",
       "87                             Paper\n",
       "88                            Labels\n",
       "89                         Bookcases\n",
       "90                           Missing\n",
       "91                           Missing\n",
       "92                             Paper\n",
       "93    Binders and Binder Accessories\n",
       "94                            Tables\n",
       "95                Office Furnishings\n",
       "96               Pens & Art Supplies\n",
       "97               Pens & Art Supplies\n",
       "98                             Paper\n",
       "99      Telephones and Communication\n",
       "Name: Category, Length: 100, dtype: object"
      ]
     },
     "execution_count": 20,
     "metadata": {},
     "output_type": "execute_result"
    }
   ],
   "source": [
    "retail['Category'].fillna(value='Missing')"
   ]
  },
  {
   "cell_type": "code",
   "execution_count": 21,
   "metadata": {},
   "outputs": [
    {
     "data": {
      "text/plain": [
       "Paper                             21\n",
       "Binders and Binder Accessories     9\n",
       "NaN                                9\n",
       "Telephones and Communication       9\n",
       "Storage & Organization             7\n",
       "Office Furnishings                 7\n",
       "Appliances                         6\n",
       "Computer Peripherals               5\n",
       "Chairs & Chairmats                 5\n",
       "Labels                             5\n",
       "Pens & Art Supplies                5\n",
       "Bookcases                          3\n",
       "Rubber Bands                       3\n",
       "Envelopes                          2\n",
       "Tables                             2\n",
       "Copiers and Fax                    1\n",
       "Scissors, Rulers and Trimmers      1\n",
       "Name: Category, dtype: int64"
      ]
     },
     "execution_count": 21,
     "metadata": {},
     "output_type": "execute_result"
    }
   ],
   "source": [
    "retail['Category'].value_counts(dropna=False)"
   ]
  },
  {
   "cell_type": "code",
   "execution_count": 22,
   "metadata": {
    "collapsed": true
   },
   "outputs": [],
   "source": [
    "retail['Category'].fillna(value='Missing',inplace=True)"
   ]
  },
  {
   "cell_type": "code",
   "execution_count": 23,
   "metadata": {},
   "outputs": [
    {
     "data": {
      "text/plain": [
       "Paper                             21\n",
       "Telephones and Communication       9\n",
       "Missing                            9\n",
       "Binders and Binder Accessories     9\n",
       "Office Furnishings                 7\n",
       "Storage & Organization             7\n",
       "Appliances                         6\n",
       "Computer Peripherals               5\n",
       "Labels                             5\n",
       "Pens & Art Supplies                5\n",
       "Chairs & Chairmats                 5\n",
       "Bookcases                          3\n",
       "Rubber Bands                       3\n",
       "Envelopes                          2\n",
       "Tables                             2\n",
       "Copiers and Fax                    1\n",
       "Scissors, Rulers and Trimmers      1\n",
       "Name: Category, dtype: int64"
      ]
     },
     "execution_count": 23,
     "metadata": {},
     "output_type": "execute_result"
    }
   ],
   "source": [
    "retail['Category'].value_counts(dropna=False)"
   ]
  },
  {
   "cell_type": "code",
   "execution_count": 25,
   "metadata": {},
   "outputs": [
    {
     "data": {
      "text/plain": [
       "(70, 6)"
      ]
     },
     "execution_count": 25,
     "metadata": {},
     "output_type": "execute_result"
    }
   ],
   "source": [
    "retail.dropna(subset=['quantity','Price'],how='any').shape"
   ]
  },
  {
   "cell_type": "code",
   "execution_count": 27,
   "metadata": {},
   "outputs": [
    {
     "name": "stdout",
     "output_type": "stream",
     "text": [
      "54\n"
     ]
    }
   ],
   "source": [
    "# 100 columns \n",
    "# 11,18,94,99 \n",
    "print retail.isnull().sum().sum()"
   ]
  },
  {
   "cell_type": "code",
   "execution_count": 28,
   "metadata": {},
   "outputs": [
    {
     "name": "stdout",
     "output_type": "stream",
     "text": [
      "                                         Product Name  \\\n",
      "0    Eldon Base for stackable storage shelf, platinum   \n",
      "1   1.7 Cubic Foot Compact \"Cube\" Office Refrigera...   \n",
      "2    Cardinal Slant-D� Ring Binder, Heavy Gauge Vinyl   \n",
      "3                                                R380   \n",
      "4                            Holmes HEPA Air Purifier   \n",
      "5   G.E. Longer-Life Indoor Recessed Floodlight Bulbs   \n",
      "6   Angle-D Binders with Locking Rings, Label Holders   \n",
      "7             SAFCO Mobile Desk Side File, Wire Frame   \n",
      "8               SAFCO Commercial Wire Shelving, Black   \n",
      "9                                           Xerox 198   \n",
      "10                                         Xerox 1980   \n",
      "11    Advantus Map Pennant Flags and Round Head Tacks   \n",
      "12                           Holmes HEPA Air Purifier   \n",
      "13  DS/HD IBM Formatted Diskettes, 200/Pack - Staples   \n",
      "14     Wilson Jones 1\" Hanging DublLock� Ring Binders   \n",
      "15      Ultra Commercial Grade Dual Valve Door Closer   \n",
      "16  #10-4 1/8\" x 9 1/2\" Premium Diagonal Seam Enve...   \n",
      "17                        Hon 4-Shelf Metal Bookcases   \n",
      "18  Lesro Sheffield Collection Coffee Table, End T...   \n",
      "19                                                  0   \n",
      "20                                             LX 788   \n",
      "21                                           Avery 52   \n",
      "22            Plymouth Boxed Rubber Bands by Plymouth   \n",
      "23  GBC Pre-Punched Binding Paper, Plastic, White,...   \n",
      "24  Maxell 3.5\" DS/HD IBM-Formatted Diskettes, 10/...   \n",
      "25                                         Newell 335   \n",
      "26     SANFORD Liquid Accent� Tank-Style Highlighters   \n",
      "27                                 Canon PC940 Copier   \n",
      "28  Tenex Personal Project File with Scoop Front D...   \n",
      "29                    Col-Erase� Pencils with Erasers   \n",
      "..                                                ...   \n",
      "70                   12-1/2 Diameter Round Wall Clock   \n",
      "71                           SAFCO Arco Folding Chair   \n",
      "72         #10 White Business Envelopes,4 1/8 x 9 1/2   \n",
      "73                              3M Office Air Cleaner   \n",
      "74      Global Leather and Oak Executive Chair, Black   \n",
      "75                                         Xerox 1936   \n",
      "76                                          Xerox 214   \n",
      "77  Carina Double Wide Media Storage Towers in Nat...   \n",
      "78                Staples� General Use 3-Ring Binders   \n",
      "79                                         Xerox 1904   \n",
      "80       Luxo Professional Combination Clamp-On Lamps   \n",
      "81                                          Xerox 217   \n",
      "82                Revere Boxed Rubber Bands by Revere   \n",
      "83  Acco Smartsocket� Table Surge Protector, 6 Col...   \n",
      "84  Tennsco Snap-Together Open Shelving Units, Sta...   \n",
      "85  Hon 4070 Series Pagoda� Round Back Stacking Ch...   \n",
      "86                                         Xerox 1887   \n",
      "87                                         Xerox 1891   \n",
      "88                                          Avery 506   \n",
      "89  Bush Heritage Pine Collection 5-Shelf Bookcase...   \n",
      "90       Lifetime Advantage� Folding Chairs, 4/Carton   \n",
      "91              Microsoft Natural Multimedia Keyboard   \n",
      "92    Staples Wirebound Steno Books, 6\" x 9\", 12/Pack   \n",
      "93  GBC Pre-Punched Binding Paper, Plastic, White,...   \n",
      "94                 Bevis Boat-Shaped Conference Table   \n",
      "95              Linden� 12\" Wall Clock With Oak Frame   \n",
      "96                                         Newell 326   \n",
      "97                       Prismacolor Color Pencil Set   \n",
      "98                         Xerox Blank Computer Paper   \n",
      "99                                    600 Series Flip   \n",
      "\n",
      "                          Category        storeManager  quantity  Price  \\\n",
      "0           Storage & Organization  Muhammed MacIntyre       3.0  35.00   \n",
      "1                       Appliances        Barry French     293.0  68.02   \n",
      "2   Binders and Binder Accessories        Barry French     293.0   2.99   \n",
      "3     Telephones and Communication       Clay Rozendal       0.0   3.99   \n",
      "4                       Appliances      Carlos Soltero     515.0   5.94   \n",
      "5               Office Furnishings      Carlos Soltero     515.0   4.95   \n",
      "6                          Missing        Carl Jackson       0.0   0.00   \n",
      "7           Storage & Organization        Carl Jackson     613.0   6.22   \n",
      "8           Storage & Organization      Monica Federle     643.0  35.00   \n",
      "9                            Paper     Dorothy Badders       0.0   8.33   \n",
      "10                           Paper     Neola Schneider     807.0   6.18   \n",
      "11                    Rubber Bands     Neola Schneider     807.0   2.00   \n",
      "12                      Appliances         Carlos Daly     868.0   5.94   \n",
      "13            Computer Peripherals         Carlos Daly     868.0   3.61   \n",
      "14  Binders and Binder Accessories       Claudia Miner     933.0   2.99   \n",
      "15              Office Furnishings     Neola Schneider       0.0   3.04   \n",
      "16                       Envelopes    Allen Rosenblatt     998.0   1.39   \n",
      "17                       Bookcases     Sylvia Foulston    1154.0  26.22   \n",
      "18                          Tables     Sylvia Foulston    1154.0  69.00   \n",
      "19                         Missing                   0       0.0   0.00   \n",
      "20    Telephones and Communication         Jim Radford    1344.0   8.99   \n",
      "21                          Labels      Carlos Soltero    1412.0   0.50   \n",
      "22                    Rubber Bands      Carlos Soltero    1412.0   0.70   \n",
      "23  Binders and Binder Accessories         Carl Ludwig       0.0  13.18   \n",
      "24            Computer Peripherals         Carl Ludwig    1539.0   4.93   \n",
      "25             Pens & Art Supplies          Don Miller    1540.0   0.70   \n",
      "26                         Missing        Annie Cyprus    1702.0   0.93   \n",
      "27                 Copiers and Fax         Carl Ludwig       0.0  49.00   \n",
      "28          Storage & Organization      Carlos Soltero    1792.0   4.51   \n",
      "29             Pens & Art Supplies       Grant Carroll    2275.0   1.17   \n",
      "..                             ...                 ...       ...    ...   \n",
      "70              Office Furnishings      Dorothy Wardle    6982.0   0.00   \n",
      "71              Chairs & Chairmats       Grant Carroll    7110.0  24.49   \n",
      "72                       Envelopes       Barry Weirich    7430.0   1.39   \n",
      "73                      Appliances          Beth Paige       0.0   5.37   \n",
      "74              Chairs & Chairmats     Sylvia Foulston    8391.0  64.73   \n",
      "75                           Paper       Nicole Hansen       0.0   5.97   \n",
      "76                           Paper       Nicole Hansen    8419.0   7.03   \n",
      "77          Storage & Organization       Nicole Hansen    8833.0  35.00   \n",
      "78  Binders and Binder Accessories          Beth Paige       0.0   1.49   \n",
      "79                           Paper          Beth Paige    8995.0   0.00   \n",
      "80              Office Furnishings          Beth Paige    8995.0  21.26   \n",
      "81                           Paper          Beth Paige    8995.0   8.19   \n",
      "82                    Rubber Bands          Beth Paige    8995.0   0.76   \n",
      "83                         Missing     Sylvia Foulston    9126.0   3.99   \n",
      "84          Storage & Organization         Bryan Davis    9127.0  35.00   \n",
      "85              Chairs & Chairmats            Joy Bell    9509.0  58.95   \n",
      "86                           Paper            Joy Bell    9509.0   5.21   \n",
      "87                           Paper            Joy Bell    9509.0   5.81   \n",
      "88                          Labels         Alan Barnes    9763.0   0.50   \n",
      "89                       Bookcases       Grant Carroll       0.0  53.48   \n",
      "90                         Missing       Grant Carroll    9927.0  18.06   \n",
      "91                         Missing       Grant Carroll    9927.0   6.50   \n",
      "92                           Paper   Delfina Latchford   10022.0   2.27   \n",
      "93  Binders and Binder Accessories           Don Jones   10437.0  13.18   \n",
      "94                          Tables       Doug Bickford   10499.0  62.74   \n",
      "95              Office Furnishings       Doug Bickford   10535.0  19.99   \n",
      "96             Pens & Art Supplies       Doug Bickford   10535.0   0.70   \n",
      "97             Pens & Art Supplies        Jamie Kunitz       0.0   4.10   \n",
      "98                           Paper     Anthony Johnson       0.0   5.77   \n",
      "99    Telephones and Communication        Ralph Knight   10945.0   8.99   \n",
      "\n",
      "    PercentageSold  \n",
      "0             0.80  \n",
      "1             0.58  \n",
      "2             0.39  \n",
      "3             0.00  \n",
      "4             0.50  \n",
      "5             0.37  \n",
      "6             0.00  \n",
      "7             0.00  \n",
      "8             0.00  \n",
      "9             0.38  \n",
      "10            0.40  \n",
      "11            0.53  \n",
      "12            0.50  \n",
      "13            0.71  \n",
      "14            0.37  \n",
      "15            0.53  \n",
      "16            0.40  \n",
      "17            0.60  \n",
      "18            0.68  \n",
      "19            0.00  \n",
      "20            0.58  \n",
      "21            0.38  \n",
      "22            0.00  \n",
      "23            0.37  \n",
      "24            0.66  \n",
      "25            0.56  \n",
      "26            0.00  \n",
      "27            0.38  \n",
      "28            0.59  \n",
      "29            0.56  \n",
      "..             ...  \n",
      "70            0.49  \n",
      "71            0.00  \n",
      "72            0.38  \n",
      "73            0.50  \n",
      "74            0.56  \n",
      "75            0.38  \n",
      "76            0.37  \n",
      "77            0.81  \n",
      "78            0.37  \n",
      "79            0.36  \n",
      "80            0.59  \n",
      "81            0.37  \n",
      "82            0.83  \n",
      "83            0.55  \n",
      "84            0.80  \n",
      "85            0.57  \n",
      "86            0.37  \n",
      "87            0.38  \n",
      "88            0.39  \n",
      "89            0.65  \n",
      "90            0.00  \n",
      "91            0.00  \n",
      "92            0.36  \n",
      "93            0.37  \n",
      "94            0.75  \n",
      "95            0.55  \n",
      "96            0.56  \n",
      "97            0.44  \n",
      "98            0.38  \n",
      "99            0.57  \n",
      "\n",
      "[100 rows x 6 columns]\n"
     ]
    }
   ],
   "source": [
    "impute_retail_zero = retail.fillna(value=0)\n",
    "print impute_retail_zero"
   ]
  },
  {
   "cell_type": "code",
   "execution_count": 29,
   "metadata": {},
   "outputs": [
    {
     "name": "stdout",
     "output_type": "stream",
     "text": [
      "Product Name       3\n",
      "Category           0\n",
      "storeManager       2\n",
      "quantity          27\n",
      "Price              7\n",
      "PercentageSold    15\n",
      "dtype: int64\n"
     ]
    }
   ],
   "source": [
    "print retail.isnull().sum()"
   ]
  },
  {
   "cell_type": "code",
   "execution_count": 30,
   "metadata": {},
   "outputs": [
    {
     "name": "stderr",
     "output_type": "stream",
     "text": [
      "C:\\Users\\home\\Anaconda2\\lib\\site-packages\\scipy\\stats\\stats.py:253: RuntimeWarning: The input array could not be properly checked for nan values. nan values will be ignored.\n",
      "  \"values. nan values will be ignored.\", RuntimeWarning)\n"
     ]
    }
   ],
   "source": [
    "retail['storeManager'].fillna(mode(retail['storeManager'], nan_policy='omit' ).mode[0],inplace=True )"
   ]
  },
  {
   "cell_type": "code",
   "execution_count": 31,
   "metadata": {},
   "outputs": [
    {
     "name": "stdout",
     "output_type": "stream",
     "text": [
      "Product Name       3\n",
      "Category           0\n",
      "storeManager       0\n",
      "quantity          27\n",
      "Price              7\n",
      "PercentageSold    15\n",
      "dtype: int64\n"
     ]
    }
   ],
   "source": [
    "print retail.isnull().sum()"
   ]
  },
  {
   "cell_type": "code",
   "execution_count": 33,
   "metadata": {},
   "outputs": [
    {
     "data": {
      "text/plain": [
       "ModeResult(mode=array(['Grant Carroll'], dtype=object), count=array([9]))"
      ]
     },
     "execution_count": 33,
     "metadata": {},
     "output_type": "execute_result"
    }
   ],
   "source": [
    "mode(retail['storeManager'])"
   ]
  },
  {
   "cell_type": "code",
   "execution_count": 34,
   "metadata": {},
   "outputs": [
    {
     "data": {
      "text/plain": [
       "0     Muhammed MacIntyre\n",
       "1           Barry French\n",
       "2           Barry French\n",
       "3          Clay Rozendal\n",
       "4         Carlos Soltero\n",
       "5         Carlos Soltero\n",
       "6           Carl Jackson\n",
       "7           Carl Jackson\n",
       "8         Monica Federle\n",
       "9        Dorothy Badders\n",
       "10       Neola Schneider\n",
       "11       Neola Schneider\n",
       "12           Carlos Daly\n",
       "13           Carlos Daly\n",
       "14         Claudia Miner\n",
       "15       Neola Schneider\n",
       "16      Allen Rosenblatt\n",
       "17       Sylvia Foulston\n",
       "18       Sylvia Foulston\n",
       "19         Grant Carroll\n",
       "20           Jim Radford\n",
       "21        Carlos Soltero\n",
       "22        Carlos Soltero\n",
       "23           Carl Ludwig\n",
       "24           Carl Ludwig\n",
       "25            Don Miller\n",
       "26          Annie Cyprus\n",
       "27           Carl Ludwig\n",
       "28        Carlos Soltero\n",
       "29         Grant Carroll\n",
       "             ...        \n",
       "70        Dorothy Wardle\n",
       "71         Grant Carroll\n",
       "72         Barry Weirich\n",
       "73            Beth Paige\n",
       "74       Sylvia Foulston\n",
       "75         Nicole Hansen\n",
       "76         Nicole Hansen\n",
       "77         Nicole Hansen\n",
       "78            Beth Paige\n",
       "79            Beth Paige\n",
       "80            Beth Paige\n",
       "81            Beth Paige\n",
       "82            Beth Paige\n",
       "83       Sylvia Foulston\n",
       "84           Bryan Davis\n",
       "85              Joy Bell\n",
       "86              Joy Bell\n",
       "87              Joy Bell\n",
       "88           Alan Barnes\n",
       "89         Grant Carroll\n",
       "90         Grant Carroll\n",
       "91         Grant Carroll\n",
       "92     Delfina Latchford\n",
       "93             Don Jones\n",
       "94         Doug Bickford\n",
       "95         Doug Bickford\n",
       "96         Doug Bickford\n",
       "97          Jamie Kunitz\n",
       "98       Anthony Johnson\n",
       "99          Ralph Knight\n",
       "Name: storeManager, Length: 100, dtype: object"
      ]
     },
     "execution_count": 34,
     "metadata": {},
     "output_type": "execute_result"
    }
   ],
   "source": [
    "retail.storeManager"
   ]
  },
  {
   "cell_type": "code",
   "execution_count": 36,
   "metadata": {},
   "outputs": [
    {
     "data": {
      "text/plain": [
       "27"
      ]
     },
     "execution_count": 36,
     "metadata": {},
     "output_type": "execute_result"
    }
   ],
   "source": [
    "retail.quantity.isnull().sum()"
   ]
  },
  {
   "cell_type": "code",
   "execution_count": 37,
   "metadata": {
    "collapsed": true
   },
   "outputs": [],
   "source": [
    "retail['quantity'].fillna(np.nanmean(retail['quantity']),inplace=True)"
   ]
  },
  {
   "cell_type": "code",
   "execution_count": 38,
   "metadata": {},
   "outputs": [
    {
     "data": {
      "text/plain": [
       "0"
      ]
     },
     "execution_count": 38,
     "metadata": {},
     "output_type": "execute_result"
    }
   ],
   "source": [
    "retail.quantity.isnull().sum()"
   ]
  },
  {
   "cell_type": "code",
   "execution_count": 39,
   "metadata": {
    "collapsed": true
   },
   "outputs": [],
   "source": [
    "retail['PercentageSold'].fillna(np.nanmean(retail['PercentageSold']),inplace=True)"
   ]
  },
  {
   "cell_type": "code",
   "execution_count": 40,
   "metadata": {},
   "outputs": [
    {
     "data": {
      "text/plain": [
       "0"
      ]
     },
     "execution_count": 40,
     "metadata": {},
     "output_type": "execute_result"
    }
   ],
   "source": [
    "retail.PercentageSold.isnull().sum()"
   ]
  },
  {
   "cell_type": "code",
   "execution_count": 45,
   "metadata": {},
   "outputs": [
    {
     "data": {
      "text/plain": [
       "Product Name      3\n",
       "Category          0\n",
       "storeManager      0\n",
       "quantity          0\n",
       "Price             0\n",
       "PercentageSold    0\n",
       "dtype: int64"
      ]
     },
     "execution_count": 45,
     "metadata": {},
     "output_type": "execute_result"
    }
   ],
   "source": [
    "retail.isnull().sum()"
   ]
  },
  {
   "cell_type": "code",
   "execution_count": 44,
   "metadata": {},
   "outputs": [],
   "source": [
    "retail['Price'].fillna(np.nanmean(retail['Price']),inplace=True)"
   ]
  },
  {
   "cell_type": "code",
   "execution_count": 47,
   "metadata": {},
   "outputs": [],
   "source": [
    "retail['Product Name'].fillna(\"Not Available\",inplace=True)"
   ]
  },
  {
   "cell_type": "code",
   "execution_count": 48,
   "metadata": {},
   "outputs": [
    {
     "data": {
      "text/plain": [
       "Product Name      0\n",
       "Category          0\n",
       "storeManager      0\n",
       "quantity          0\n",
       "Price             0\n",
       "PercentageSold    0\n",
       "dtype: int64"
      ]
     },
     "execution_count": 48,
     "metadata": {},
     "output_type": "execute_result"
    }
   ],
   "source": [
    "retail.isnull().sum()"
   ]
  },
  {
   "cell_type": "code",
   "execution_count": null,
   "metadata": {
    "collapsed": true
   },
   "outputs": [],
   "source": []
  }
 ],
 "metadata": {
  "kernelspec": {
   "display_name": "Python 2",
   "language": "python",
   "name": "python2"
  },
  "language_info": {
   "codemirror_mode": {
    "name": "ipython",
    "version": 2
   },
   "file_extension": ".py",
   "mimetype": "text/x-python",
   "name": "python",
   "nbconvert_exporter": "python",
   "pygments_lexer": "ipython2",
   "version": "2.7.13"
  }
 },
 "nbformat": 4,
 "nbformat_minor": 2
}
